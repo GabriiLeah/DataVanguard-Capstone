{
 "cells": [
  {
   "cell_type": "code",
   "execution_count": null,
   "metadata": {},
   "outputs": [],
   "source": [
    "# import necessary libraries\n",
    "import warnings\n",
    "import pandas as pd\n",
    "import matplotlib.pyplot as plt\n",
    "import plotly.express as px\n",
    "import plotly.graph_objs as go\n",
    "from plotly.offline import init_notebook_mode\n",
    "from plotly.subplots import make_subplots\n",
    "from wordcloud import WordCloud\n",
    "\n",
    "init_notebook_mode(connected=True)\n",
    "warnings.filterwarnings('ignore')"
   ]
  },
  {
   "cell_type": "markdown",
   "metadata": {},
   "source": [
    "2. What are the factors that contribute to the relationship between Filipino income and expenditures?"
   ]
  },
  {
   "cell_type": "code",
   "execution_count": null,
   "metadata": {},
   "outputs": [],
   "source": [
    "# load csv file into pandas dataframe\n",
    "data = pd.read_csv('Capstone_DW.csv')\n",
    "data.head()"
   ]
  },
  {
   "cell_type": "code",
   "execution_count": null,
   "metadata": {},
   "outputs": [],
   "source": [
    "data.columns"
   ]
  },
  {
   "cell_type": "code",
   "execution_count": null,
   "metadata": {},
   "outputs": [],
   "source": [
    "# remove unnecessary columns\n",
    "df_factor = data.drop(['Unnamed: 0', 'Bread and Cereals Expenditure', 'Total Rice Expenditure', \n",
    "                                'Meat Expenditure','Total Fish and  marine products Expenditure', \n",
    "                                'Fruit Expenditure', 'Vegetables Expenditure', \n",
    "                                'Restaurant and hotels Expenditure', 'Alcoholic Beverages Expenditure', \n",
    "                                'Tobacco Expenditure', 'Clothing, Footwear and Other Wear Expenditure', \n",
    "                                'Housing and water Expenditure', 'Medical Care Expenditure', \n",
    "                                'Transportation Expenditure', 'Communication Expenditure', \n",
    "                                'Education Expenditure', 'Miscellaneous Goods and Services Expenditure', \n",
    "                                'Special Occasions Expenditure', 'Crop Farming and Gardening expenses', \n",
    "                                'Imputed House Rental Value','House Floor Area', 'Electricity', 'Has Electricity',\n",
    "                                'Main Source of Water Supply'], axis=1, inplace = False)"
   ]
  },
  {
   "cell_type": "code",
   "execution_count": null,
   "metadata": {},
   "outputs": [],
   "source": [
    "# Get Total of all Expenditures\n",
    "expense_total = data[['Bread and Cereals Expenditure', 'Total Rice Expenditure', \n",
    "                                'Meat Expenditure','Total Fish and  marine products Expenditure', \n",
    "                                'Fruit Expenditure', 'Vegetables Expenditure', \n",
    "                                'Restaurant and hotels Expenditure', 'Alcoholic Beverages Expenditure', \n",
    "                                'Tobacco Expenditure', 'Clothing, Footwear and Other Wear Expenditure', \n",
    "                                'Housing and water Expenditure', 'Medical Care Expenditure', \n",
    "                                'Transportation Expenditure', 'Communication Expenditure', \n",
    "                                'Education Expenditure', 'Miscellaneous Goods and Services Expenditure', \n",
    "                                'Special Occasions Expenditure', 'Crop Farming and Gardening expenses']].sum(axis=1)\n",
    "df_factor.insert(3, 'Total Expenditures', expense_total)\n"
   ]
  },
  {
   "cell_type": "code",
   "execution_count": null,
   "metadata": {},
   "outputs": [],
   "source": [
    "# unique values of 'Income Class'\n",
    "df_factor['Income Class'].unique()"
   ]
  },
  {
   "cell_type": "code",
   "execution_count": null,
   "metadata": {},
   "outputs": [],
   "source": [
    "# Get Columns for each Income Class\n",
    "factor_poor = df_factor[df_factor['Income Class'] == 'Poor']\n",
    "factor_middle = df_factor[df_factor['Income Class'] == 'Middle Class']\n",
    "factor_rich = df_factor[df_factor['Income Class'] == 'Rich']"
   ]
  },
  {
   "cell_type": "code",
   "execution_count": null,
   "metadata": {},
   "outputs": [],
   "source": [
    "factor_poor['Household Head Highest Grade Completed'].value_counts()"
   ]
  },
  {
   "cell_type": "markdown",
   "metadata": {},
   "source": [
    " - How many are with formal education?"
   ]
  },
  {
   "cell_type": "code",
   "execution_count": null,
   "metadata": {},
   "outputs": [],
   "source": [
    "grade_plabel = factor_poor['Household Head Highest Grade Completed'].value_counts().index\n",
    "grade_mlabel = factor_middle['Household Head Highest Grade Completed'].value_counts().index\n",
    "grade_rlabel = factor_rich['Household Head Highest Grade Completed'].value_counts().index\n",
    "grade_poor = factor_poor['Household Head Highest Grade Completed'].value_counts()\n",
    "grade_middle = factor_middle['Household Head Highest Grade Completed'].value_counts()\n",
    "grade_rich = factor_rich['Household Head Highest Grade Completed'].value_counts()\n",
    "grade_specs = [[{'type':'domain'}, {'type':'domain'}, {'type':'domain'}]]"
   ]
  },
  {
   "cell_type": "code",
   "execution_count": null,
   "metadata": {},
   "outputs": [],
   "source": [
    "# # Pie Chart of Household Head Highest Grade Completed by Income Class\n",
    "# fig = make_subplots(rows=1, cols=3, specs=grade_specs, subplot_titles=['Poor', 'Middle Class', 'Rich'])\n",
    "\n",
    "# fig.add_trace(go.Pie(labels=grade_plabel, values = grade_poor,\n",
    "#                      name=\"Poor\", pull=[0, 0, 0, 0, 0.2, 0, 0, 0, 0]), \n",
    "#               1, 1)\n",
    "# fig.add_trace(go.Pie(labels=grade_mlabel, values = grade_middle,\n",
    "#                      name=\"Middle Class\", pull=[0, 0, 0, 0, 0, 0, 0, 0.2, 0]), \n",
    "#               1, 2)\n",
    "# fig.add_trace(go.Pie(labels=grade_rlabel,  values = grade_rich,\n",
    "#                      name=\"Rich\", pull=[0, 0, 0, 0, 0, 0, 0, 0.2, 0]), \n",
    "#               1, 3)\n",
    "\n",
    "# fig.update_traces(textposition='inside', hole=.3)\n",
    "# fig.update_layout(title_text='Percent of Household Head Highest Grade Completed by Income Class' ,uniformtext_minsize=10, uniformtext_mode='hide', \n",
    "#                   height=500)\n",
    "# fig.show()"
   ]
  },
  {
   "cell_type": "code",
   "execution_count": null,
   "metadata": {},
   "outputs": [],
   "source": [
    "factor_poor['Household Head Highest Grade Completed'].value_counts()"
   ]
  },
  {
   "cell_type": "code",
   "execution_count": null,
   "metadata": {},
   "outputs": [],
   "source": [
    "factor_middle['Household Head Highest Grade Completed'].value_counts()"
   ]
  },
  {
   "cell_type": "code",
   "execution_count": null,
   "metadata": {},
   "outputs": [],
   "source": [
    "factor_rich['Household Head Highest Grade Completed'].value_counts()"
   ]
  },
  {
   "cell_type": "code",
   "execution_count": null,
   "metadata": {},
   "outputs": [],
   "source": [
    "factor_unschool = df_factor[df_factor['Household Head Highest Grade Completed'] == 'No Grade Completed']"
   ]
  },
  {
   "cell_type": "code",
   "execution_count": null,
   "metadata": {},
   "outputs": [],
   "source": [
    "factor_unschool['Household Head Job or Business Indicator'].value_counts()"
   ]
  },
  {
   "cell_type": "code",
   "execution_count": null,
   "metadata": {},
   "outputs": [],
   "source": [
    "unschool_household_head = factor_unschool['Household Head Job or Business Indicator'].value_counts()"
   ]
  },
  {
   "cell_type": "code",
   "execution_count": null,
   "metadata": {},
   "outputs": [],
   "source": [
    "# fig = px.pie(factor_unschool, values=unschool_household_head.values, color=unschool_household_head.index, names=unschool_household_head.index,\n",
    "#              hole=.3,\n",
    "#              color_discrete_sequence=px.colors.qualitative.Antique)\n",
    "# fig.update_traces(pull=[0, 0, 0, 0, 0, 0.2, 0, 0, 0], textposition='inside')\n",
    "# fig.update_layout(title_text='Percent of Unschooled Household Head with Job/Business',uniformtext_minsize=15, uniformtext_mode='hide',\n",
    "#                   height=1000, title={'font': {'size': 30}}, font={'size': 20})\n",
    "# fig.show()"
   ]
  },
  {
   "cell_type": "code",
   "execution_count": null,
   "metadata": {},
   "outputs": [],
   "source": [
    "factor_unschool['Household Head Occupation'].value_counts()"
   ]
  },
  {
   "cell_type": "code",
   "execution_count": null,
   "metadata": {},
   "outputs": [],
   "source": [
    "# plt.subplots(figsize=(8,8))\n",
    "# wordcloud = WordCloud(\n",
    "#                           background_color='white',\n",
    "#                          ).generate(\" \".join(factor_unschool['Household Head Occupation']))\n",
    "# plt.imshow(wordcloud)\n",
    "# plt.axis('off')\n",
    "# # plt.savefig('graph.png')\n",
    "\n",
    "# plt.show()"
   ]
  },
  {
   "cell_type": "code",
   "execution_count": null,
   "metadata": {},
   "outputs": [],
   "source": [
    "factor_grade = df_factor['Household Head Highest Grade Completed'].value_counts()"
   ]
  },
  {
   "cell_type": "code",
   "execution_count": null,
   "metadata": {},
   "outputs": [],
   "source": [
    "# fig = px.pie(df_factor, values=factor_grade.values, color=factor_grade.index, names=factor_grade.index,\n",
    "#              title = 'Percent of Household Head with Formal Education',\n",
    "#              hole=.3,\n",
    "#              color_discrete_sequence=px.colors.qualitative.Antique)\n",
    "# fig.update_traces(pull=[0, 0, 0, 0, 0, 0.2, 0, 0, 0], textposition='inside')\n",
    "# fig.update_layout(title_text='Percent of Highest Educational Degree Completed by Household Head',uniformtext_minsize=15, uniformtext_mode='hide',\n",
    "#                   height=1000, title={'font': {'size': 30}}, font={'size': 20})\n",
    "# fig.show()"
   ]
  },
  {
   "cell_type": "code",
   "execution_count": null,
   "metadata": {},
   "outputs": [],
   "source": [
    "df_factor['Household Head Highest Grade Completed'].value_counts()"
   ]
  },
  {
   "cell_type": "code",
   "execution_count": null,
   "metadata": {},
   "outputs": [],
   "source": [
    "# # Histogram of Household Head Highest Grade Completed\n",
    "# fig = px.histogram(df_factor, y ='Household Head Highest Grade Completed', \n",
    "#                    color = 'Income Class', color_discrete_sequence=px.colors.qualitative.Antique)\n",
    "# fig.update_layout(\n",
    "#     title='Highest Educational Degree Completed by Household Head',\n",
    "#     xaxis_title='Grade Completed',\n",
    "#     font=dict(size=15)\n",
    "# )\n",
    "# fig.update_layout(barmode='group', yaxis={'categoryorder':'total descending'}, height=1000)\n",
    "\n",
    "# fig.show()"
   ]
  },
  {
   "cell_type": "code",
   "execution_count": null,
   "metadata": {},
   "outputs": [],
   "source": [
    "head_plabel = factor_poor['Household Head Job or Business Indicator'].value_counts().index\n",
    "head_mlabel = factor_middle['Household Head Job or Business Indicator'].value_counts().index\n",
    "head_rlabel = factor_rich['Household Head Job or Business Indicator'].value_counts().index\n",
    "head_poor = factor_poor['Household Head Job or Business Indicator'].value_counts()\n",
    "head_middle = factor_middle['Household Head Job or Business Indicator'].value_counts()\n",
    "head_rich = factor_rich['Household Head Job or Business Indicator'].value_counts()\n",
    "head_specs = [[{'type':'domain'}, {'type':'domain'}, {'type':'domain'}]]"
   ]
  },
  {
   "cell_type": "code",
   "execution_count": null,
   "metadata": {},
   "outputs": [],
   "source": [
    "# # Pie Chart of Household Head with Job or Business by Income Class\n",
    "\n",
    "# fig = make_subplots(rows=1, cols=3, specs=head_specs, subplot_titles=['Poor', 'Middle Class', 'Rich'])\n",
    "\n",
    "# fig.add_trace(go.Pie(labels=head_plabel, values = head_poor,\n",
    "#                      name=\"Poor\", marker_colors=px.colors.qualitative.Antique), \n",
    "#               1, 1)\n",
    "# fig.add_trace(go.Pie(labels=head_mlabel, values = head_middle,\n",
    "#                      name=\"Middle Class\", marker_colors=px.colors.qualitative.Antique), \n",
    "#               1, 2)\n",
    "# fig.add_trace(go.Pie(labels=head_rlabel,  values = head_rich,\n",
    "#                      name=\"Rich\", marker_colors=px.colors.qualitative.Antique), \n",
    "#               1, 3)\n",
    "\n",
    "# fig.update_traces(textposition='inside')\n",
    "# fig.update_layout(title_text='Percent of Household Head with Job or Business by Income Class' ,uniformtext_minsize=10, uniformtext_mode='hide')\n",
    "# fig.show()"
   ]
  },
  {
   "cell_type": "code",
   "execution_count": null,
   "metadata": {},
   "outputs": [],
   "source": [
    "# # Histogram of Household Head Job or Business Indicator versus Income Class\n",
    "# fig = px.histogram(df_factor, y='Household Head Job or Business Indicator', color = 'Income Class', \n",
    "#                    color_discrete_sequence=px.colors.qualitative.Antique)\n",
    "# fig.update_layout(\n",
    "#     title='Household Head Job or Business Vs. Income Class',\n",
    "#     xaxis_title='With Job or Business',\n",
    "#     font=dict(size=15)\n",
    "# )\n",
    "# fig.update_layout(barmode='group', yaxis={'categoryorder':'total descending'})\n",
    "\n",
    "# fig.show()"
   ]
  },
  {
   "cell_type": "markdown",
   "metadata": {},
   "source": [
    "- Main Source of Income"
   ]
  },
  {
   "cell_type": "code",
   "execution_count": null,
   "metadata": {},
   "outputs": [],
   "source": [
    "# unique values of 'Main Source of Income'\n",
    "df_factor['Main Source of Income'].unique()"
   ]
  },
  {
   "cell_type": "code",
   "execution_count": null,
   "metadata": {},
   "outputs": [],
   "source": [
    "# Get Columns for each Income Class\n",
    "factor_wage = df_factor[df_factor['Main Source of Income'] == 'Wage/Salaries']\n",
    "factor_enterpre = df_factor[df_factor['Main Source of Income'] == 'Enterpreneurial Activities']\n",
    "factor_other = df_factor[df_factor['Main Source of Income'] == 'Other sources of Income']"
   ]
  },
  {
   "cell_type": "code",
   "execution_count": null,
   "metadata": {},
   "outputs": [],
   "source": [
    "# values counts of 'Main Source of Income'\n",
    "factor_wage['Income Class'].value_counts()"
   ]
  },
  {
   "cell_type": "code",
   "execution_count": null,
   "metadata": {},
   "outputs": [],
   "source": [
    "# # Histogram of Household Head Job or Business Indicator versus Household Head Class of Worker\n",
    "# fig = px.histogram(factor_wage, y='Main Source of Income', color = 'Income Class', \n",
    "#                    color_discrete_sequence=px.colors.qualitative.Antique)\n",
    "# fig.update_layout(\n",
    "#     title='Wage/Salaries by Income Class',\n",
    "#     font=dict(size=15)\n",
    "# )\n",
    "# fig.update_layout(barmode = 'group', yaxis={'categoryorder':'total descending'})\n",
    "\n",
    "# fig.show()"
   ]
  },
  {
   "cell_type": "code",
   "execution_count": null,
   "metadata": {},
   "outputs": [],
   "source": [
    "factor_income_wage = factor_wage['Income Class'].value_counts()"
   ]
  },
  {
   "cell_type": "code",
   "execution_count": null,
   "metadata": {},
   "outputs": [],
   "source": [
    "# fig = px.pie(factor_wage, values=factor_income_wage.values, color=factor_income_wage.index, names=factor_income_wage.index,\n",
    "#              hole=.3,\n",
    "#              color_discrete_sequence=px.colors.qualitative.Antique)\n",
    "# fig.update_traces(pull=[0, 0, 0, 0, 0, 0.2, 0, 0, 0], textposition='inside')\n",
    "# fig.update_layout(title_text='Percent of Wage/Salaries by Income Class',uniformtext_minsize=15, uniformtext_mode='hide',\n",
    "#                   height=1000, title={'font': {'size': 30}}, font={'size': 20})\n",
    "# fig.show()"
   ]
  },
  {
   "cell_type": "code",
   "execution_count": null,
   "metadata": {},
   "outputs": [],
   "source": [
    "factor_enterpre['Income Class'].value_counts()"
   ]
  },
  {
   "cell_type": "code",
   "execution_count": null,
   "metadata": {},
   "outputs": [],
   "source": [
    "# fig = px.histogram(factor_enterpre, y='Main Source of Income', color = 'Income Class', \n",
    "#                    color_discrete_sequence=px.colors.qualitative.Antique)\n",
    "# fig.update_layout(\n",
    "#     title='Enterpreneurial Activities by Income Class',\n",
    "#     font=dict(size=15)\n",
    "# )\n",
    "# fig.update_layout(barmode = 'group', yaxis={'categoryorder':'total descending'})\n",
    "\n",
    "# fig.show()"
   ]
  },
  {
   "cell_type": "code",
   "execution_count": null,
   "metadata": {},
   "outputs": [],
   "source": [
    "factor_enterpre_income = factor_enterpre['Income Class'].value_counts()"
   ]
  },
  {
   "cell_type": "code",
   "execution_count": null,
   "metadata": {},
   "outputs": [],
   "source": [
    "# fig = px.pie(factor_enterpre, values=factor_enterpre_income.values, color=factor_enterpre_income.index, names=factor_enterpre_income.index,\n",
    "#              hole=.3,\n",
    "#              color_discrete_sequence=px.colors.qualitative.Antique)\n",
    "# fig.update_traces(pull=[0, 0, 0, 0, 0, 0.2, 0, 0, 0], textposition='inside')\n",
    "# fig.update_layout(title_text='Percent of Enterpreneurial Activities by Income Class',uniformtext_minsize=15, uniformtext_mode='hide',\n",
    "#                   height=1000, title={'font': {'size': 30}}, font={'size': 20})\n",
    "# fig.show()"
   ]
  },
  {
   "cell_type": "code",
   "execution_count": null,
   "metadata": {},
   "outputs": [],
   "source": [
    "factor_other['Income Class'].value_counts()"
   ]
  },
  {
   "cell_type": "code",
   "execution_count": null,
   "metadata": {},
   "outputs": [],
   "source": [
    "# # Histogram of Household Head Job or Business Indicator versus Household Head Class of Worker\n",
    "# fig = px.histogram(df_factor, y='Household Head Job or Business Indicator', color = 'Main Source of Income', \n",
    "#                    color_discrete_sequence=px.colors.qualitative.Antique)\n",
    "# fig.update_layout(\n",
    "#     title='Job/Business Indicator Vs. Main Source of Income',\n",
    "#     xaxis_title='Job/Business Indicator',\n",
    "#     font=dict(size=15)\n",
    "# )\n",
    "# fig.update_layout(barmode = 'group', yaxis={'categoryorder':'total descending'})\n",
    "\n",
    "# fig.show()"
   ]
  },
  {
   "cell_type": "code",
   "execution_count": null,
   "metadata": {},
   "outputs": [],
   "source": [
    "factor_other_income = factor_other['Income Class'].value_counts()"
   ]
  },
  {
   "cell_type": "code",
   "execution_count": null,
   "metadata": {},
   "outputs": [],
   "source": [
    "# fig = px.pie(factor_other, values=factor_other_income.values, color=factor_other_income.index, names=factor_other_income.index,\n",
    "#              hole=.3,\n",
    "#              color_discrete_sequence=px.colors.qualitative.Antique)\n",
    "# fig.update_traces(pull=[0, 0, 0, 0, 0, 0.2, 0, 0, 0], textposition='inside')\n",
    "# fig.update_layout(title_text='Percent of Other Sources of Income by Income Class',uniformtext_minsize=15, uniformtext_mode='hide',\n",
    "#                   height=1000, title={'font': {'size': 30}}, font={'size': 20})\n",
    "# fig.show()"
   ]
  },
  {
   "cell_type": "code",
   "execution_count": null,
   "metadata": {},
   "outputs": [],
   "source": [
    "income_plabel = factor_poor['Main Source of Income'].value_counts().index\n",
    "income_mlabel = factor_middle['Main Source of Income'].value_counts().index\n",
    "income_rlabel = factor_rich['Main Source of Income'].value_counts().index\n",
    "income_poor = factor_poor['Main Source of Income'].value_counts()\n",
    "income_middle = factor_middle['Main Source of Income'].value_counts()\n",
    "income_rich = factor_rich['Main Source of Income'].value_counts()\n",
    "income_specs = [[{'type':'domain'}, {'type':'domain'}, {'type':'domain'}]]"
   ]
  },
  {
   "cell_type": "code",
   "execution_count": null,
   "metadata": {},
   "outputs": [],
   "source": [
    "# # Pie Chart of Main Source of Income by Income Class\n",
    "# fig = make_subplots(rows=1, cols=3, specs=income_specs, subplot_titles=['Poor', 'Middle Class', 'Rich'])\n",
    "\n",
    "# fig.add_trace(go.Pie(labels=income_plabel, values = income_poor,\n",
    "#                      name=\"Poor\", marker_colors=px.colors.qualitative.Antique), \n",
    "#               1, 1)\n",
    "# fig.add_trace(go.Pie(labels=income_mlabel, values = income_middle,\n",
    "#                      name=\"Middle Class\", marker_colors=px.colors.qualitative.Antique), \n",
    "#               1, 2)\n",
    "# fig.add_trace(go.Pie(labels=income_rlabel,  values = income_rich,\n",
    "#                      name=\"Rich\", marker_colors=px.colors.qualitative.Antique), \n",
    "#               1, 3)\n",
    "\n",
    "# fig.update_traces(textposition='inside')\n",
    "# fig.update_layout(title_text='Percent of Main Source of Income by Income Class' ,uniformtext_minsize=10, uniformtext_mode='hide')\n",
    "# fig.show()"
   ]
  },
  {
   "cell_type": "code",
   "execution_count": null,
   "metadata": {},
   "outputs": [],
   "source": [
    "factor_income_source = df_factor['Main Source of Income'].value_counts()"
   ]
  },
  {
   "cell_type": "code",
   "execution_count": null,
   "metadata": {},
   "outputs": [],
   "source": [
    "# fig = px.pie(df_factor, values=factor_income_source.values, color=factor_income_source.index, names=factor_income_source.index,\n",
    "#              title = 'Percent of Household Head with Formal Education',\n",
    "#              hole=.3,\n",
    "#              color_discrete_sequence=px.colors.qualitative.Antique)\n",
    "# fig.update_traces(pull=[0, 0, 0, 0, 0, 0.2, 0, 0, 0], textposition='inside')\n",
    "# fig.update_layout(title_text='Percent of Highest Educational Degree Completed by Household Head',uniformtext_minsize=15, uniformtext_mode='hide',\n",
    "#                   height=1000, title={'font': {'size': 30}}, font={'size': 20})\n",
    "# fig.show()"
   ]
  },
  {
   "cell_type": "code",
   "execution_count": null,
   "metadata": {},
   "outputs": [],
   "source": [
    "# plt.subplots(figsize=(8,8))\n",
    "# wordcloud = WordCloud(\n",
    "#                           background_color='white',\n",
    "#                          ).generate(\" \".join(df_factor[\"Household Head Class of Worker\"]))\n",
    "# plt.imshow(wordcloud)\n",
    "# plt.axis('off')\n",
    "# # plt.savefig('graph.png')\n",
    "# plt.show()"
   ]
  },
  {
   "cell_type": "code",
   "execution_count": null,
   "metadata": {},
   "outputs": [],
   "source": [
    "# fig = px.histogram(df_factor, color = 'Main Source of Income', y = 'Household Head Class of Worker',\n",
    "#                    color_discrete_sequence=px.colors.qualitative.Antique)\n",
    "# fig.update_layout(\n",
    "#     title='Main Source of Income Distribution',\n",
    "#     xaxis_title='Main Source of Income',\n",
    "#     font=dict(size=15)\n",
    "# )\n",
    "# fig.update_layout(barmode = 'group', xaxis={'categoryorder':'total descending'})\n",
    "# fig.show()"
   ]
  },
  {
   "cell_type": "code",
   "execution_count": null,
   "metadata": {},
   "outputs": [],
   "source": [
    "df_factor['Income Class'].value_counts()"
   ]
  }
 ],
 "metadata": {
  "kernelspec": {
   "display_name": "Python 3",
   "language": "python",
   "name": "python3"
  },
  "language_info": {
   "codemirror_mode": {
    "name": "ipython",
    "version": 3
   },
   "file_extension": ".py",
   "mimetype": "text/x-python",
   "name": "python",
   "nbconvert_exporter": "python",
   "pygments_lexer": "ipython3",
   "version": "3.11.4"
  },
  "orig_nbformat": 4
 },
 "nbformat": 4,
 "nbformat_minor": 2
}
