{
 "cells": [
  {
   "cell_type": "markdown",
   "metadata": {},
   "source": [
    "# Exploratory Data Analysis\n",
    "\n",
    "- Dataset can be found here: https://www.kaggle.com/datasets/grosvenpaul/family-income-and-expenditure\n",
    "    - Dataset is from **2015-2018** the latest publicly available nationwide Family Income and Expenditure Survey (FIES) conducted every three (3) years by the Philippine Statistics Authority (PSA).\n"
   ]
  },
  {
   "cell_type": "markdown",
   "metadata": {},
   "source": [
    "# Data Wrangling"
   ]
  },
  {
   "cell_type": "code",
   "execution_count": null,
   "metadata": {},
   "outputs": [],
   "source": [
    "# Import the required libraries for EDA\n",
    "import pandas as pd\n",
    "import numpy as np"
   ]
  },
  {
   "cell_type": "code",
   "execution_count": null,
   "metadata": {},
   "outputs": [],
   "source": [
    "# Loading the CSV file into a Pandas DataFrame\n",
    "df = pd.read_csv('Family_Income_and_Expenditure.csv')"
   ]
  },
  {
   "cell_type": "code",
   "execution_count": null,
   "metadata": {},
   "outputs": [],
   "source": [
    "# Checking the shape of the DataFrame\n",
    "df.shape"
   ]
  },
  {
   "cell_type": "code",
   "execution_count": null,
   "metadata": {},
   "outputs": [],
   "source": [
    "df.columns"
   ]
  },
  {
   "cell_type": "markdown",
   "metadata": {},
   "source": [
    "- Dataset has **41544 instances** and **60 features**. The instances represented here are different Filipino Families from all over the Philippines, feature represent Total Household Income, Region, Total Food Expenditure and other factors dealing with Income and Expenditure."
   ]
  },
  {
   "cell_type": "code",
   "execution_count": null,
   "metadata": {},
   "outputs": [],
   "source": [
    "# Removing irrelevant features\n",
    "df.drop(['Total Food Expenditure', 'Agricultural Household indicator', 'Household Head Sex',\n",
    "         'Household Head Age', 'Household Head Marital Status', 'Type of Household',\n",
    "         'Members with age less than 5 year old', 'Members with age 5 - 17 years old', \n",
    "         'Total number of family members employed', 'Type of Building/House',\n",
    "         'Type of Roof', 'Type of Walls', 'House Age', 'Number of bedrooms', 'Tenure Status', \n",
    "         'Toilet Facilities', 'Number of Television', 'Number of CD/VCD/DVD', \n",
    "         'Number of Component/Stereo set', 'Number of Refrigerator/Freezer',\n",
    "         'Number of Washing Machine', 'Number of Airconditioner', 'Number of Car, Jeep, Van', \n",
    "         'Number of Landline/wireless telephones', 'Number of Cellular phone', \n",
    "         'Number of Personal Computer', 'Number of Stove with Oven/Gas Range', \n",
    "         'Number of Motorized Banca', 'Number of Motorcycle/Tricycle'], axis=1, inplace=True)"
   ]
  },
  {
   "cell_type": "code",
   "execution_count": null,
   "metadata": {},
   "outputs": [],
   "source": [
    "# Identify null values\n",
    "df.isnull().sum()"
   ]
  },
  {
   "cell_type": "code",
   "execution_count": null,
   "metadata": {},
   "outputs": [],
   "source": [
    "# Check duplicates\n",
    "df.duplicated().any()"
   ]
  },
  {
   "cell_type": "markdown",
   "metadata": {},
   "source": [
    "Inference:\n",
    "1. Since the output is False, we can say that there's No Duplicate Records present in the Dataset."
   ]
  },
  {
   "cell_type": "markdown",
   "metadata": {},
   "source": [
    "# Preprocess the data\n",
    "### Basic Information of Attributes"
   ]
  },
  {
   "cell_type": "code",
   "execution_count": null,
   "metadata": {},
   "outputs": [],
   "source": [
    "# Check information\n",
    "df.info()"
   ]
  },
  {
   "cell_type": "markdown",
   "metadata": {},
   "source": [
    "Inference:\n",
    "1. There are only **24 Numerical Attributes** in the dataset.\n",
    "2. On the other hand we have **9 Categorical Attributes**."
   ]
  },
  {
   "cell_type": "markdown",
   "metadata": {},
   "source": [
    "- Display the numerical features in the dataset"
   ]
  },
  {
   "cell_type": "code",
   "execution_count": null,
   "metadata": {},
   "outputs": [],
   "source": [
    "df.select_dtypes(np.number).head()"
   ]
  },
  {
   "cell_type": "markdown",
   "metadata": {},
   "source": [
    "Inference:\n",
    "1. All numerical features are appropriate for the analysis.\n",
    "2. Add new column with categorical values that describes the numerical values of 'Electricity'"
   ]
  },
  {
   "cell_type": "code",
   "execution_count": null,
   "metadata": {},
   "outputs": [],
   "source": [
    "# Identify and Create new column for 'Has Electricity'\n",
    "has_electricity = pd.Series('No Electricity', index=df.index).mask(df['Electricity'] == 1, 'With Electricity')\n",
    "df.insert(30, 'Has Electricity', has_electricity)\n",
    "\n",
    "# Compute for Monthly Income and Monthly Income per Capita\n",
    "monthly_income = (df['Total Household Income'] // 12)\n",
    "monthly_capita = round(monthly_income / df['Total Number of Family members'], 2)\n",
    "df.insert(2, 'Monthly Income per Capita', monthly_capita)\n",
    "\n",
    "# Identifty Income Class of Families\n",
    "# Based on PIDS Report (2018)\n",
    "poor = df[monthly_capita <= 2191.4]\n",
    "low = (monthly_capita >= 2191.4) & (monthly_capita <= 4238.8)\n",
    "middle = (monthly_capita >= 4238.8) & (monthly_capita <= 26296.8)\n",
    "high = (monthly_capita >= 26296.8) & (monthly_capita <= 43828)\n",
    "rich = (monthly_capita >= 43828)\n",
    "\n",
    "# Create Column 'Income Class'\n",
    "income_class = pd.Series('Poor', index=df.index).mask(\n",
    "    ((monthly_capita >= 2191.4) & (monthly_capita <= 4238.8)), \n",
    "        'Low Income').mask(middle, 'Middle Class').mask(high, \n",
    "        'High Income').mask(rich, 'Rich')\n",
    "df.insert(3, 'Income Class', income_class)"
   ]
  },
  {
   "cell_type": "markdown",
   "metadata": {},
   "source": [
    "- Display the categorical features in the dataset"
   ]
  },
  {
   "cell_type": "code",
   "execution_count": null,
   "metadata": {},
   "outputs": [],
   "source": [
    "df.select_dtypes(include=\"O\").head()"
   ]
  },
  {
   "cell_type": "markdown",
   "metadata": {},
   "source": [
    "- Check Unique Values of Categorical Attributes"
   ]
  },
  {
   "cell_type": "code",
   "execution_count": null,
   "metadata": {},
   "outputs": [],
   "source": [
    "cat_columns = df.select_dtypes(include=\"O\").columns\n",
    "\n",
    "for column in cat_columns:\n",
    "    print('Unique values of ', column, set(df[column]))\n",
    "    print(\"-\"*127)"
   ]
  },
  {
   "cell_type": "code",
   "execution_count": null,
   "metadata": {},
   "outputs": [],
   "source": [
    "# Fill null values'\n",
    "df['Household Head Occupation'].fillna('Unemployed', inplace=True)\n",
    "df['Household Head Class of Worker'].fillna('Unemployed', inplace=True)"
   ]
  },
  {
   "cell_type": "markdown",
   "metadata": {},
   "source": [
    "- Group similar values for 'Household Head Highest Grade Completed"
   ]
  },
  {
   "cell_type": "code",
   "execution_count": null,
   "metadata": {},
   "outputs": [],
   "source": [
    "# Grade 1-6, change to Elementary Undergraduate\n",
    "df = df.replace({'Household Head Highest Grade Completed':{'Grade 1':'Elementary Undergraduate', 'Grade 2':'Elementary Undergraduate', 'Grade 3':'Elementary Undergraduate', 'Grade 4':'Elementary Undergraduate', 'Grade 5':'Elementary Undergraduate', 'Grade 6':'Elementary Undergraduate'}})\n",
    "# First-Fourth Year High School, change to High School Undergraduate\n",
    "df = df.replace({'Household Head Highest Grade Completed':{'First Year High School':'High School Undergraduate', 'Second Year High School':'High School Undergraduate', 'Third Year High School':'High School Undergraduate', 'Fourth Year High School':'High School Undergraduate'}})\n",
    "# First-Fourth Year College, change to College Undergraduate\n",
    "df = df.replace({'Household Head Highest Grade Completed':{'First Year College':'High School Undergraduate', 'Second Year College':'High School Undergraduate', 'Third Year College':'High School Undergraduate', 'Fourth Year College':'High School Undergraduate'}})\n",
    "# Replace rows containing 'Programs' with 'Degree Programs or Equivalent'\n",
    "df.loc[df['Household Head Highest Grade Completed'].str.contains('Programs'),'Household Head Highest Grade Completed'] = 'Degree Programs or Equivalent'\n",
    "# Replace rows containing 'Post Secondary' with 'Post Secondary Undergraduate'\n",
    "df.loc[df['Household Head Highest Grade Completed'].str.contains('Post Secondary'),'Household Head Highest Grade Completed'] = 'Post Secondary Undergraduate'"
   ]
  },
  {
   "cell_type": "markdown",
   "metadata": {},
   "source": [
    "- Group similar values for 'Household Head Class of Worker'"
   ]
  },
  {
   "cell_type": "code",
   "execution_count": null,
   "metadata": {},
   "outputs": [],
   "source": [
    "# Replace 'Worked for private establishment' with 'Private Employment'\n",
    "df = df.replace({'Household Head Class of Worker':{'Worked for private establishment':'Private Employment'}})\n",
    "# Replace 'Worked for private household' with 'Private Employment'\n",
    "df = df.replace({'Household Head Class of Worker':{'Worked for private household':'Private Employment'}})\n",
    "# Replace 'Employer in own family-operated farm or business' with 'Employer in Family Business'\n",
    "df = df.replace({'Household Head Class of Worker':{'Self-employed wihout any employee':'Self Employed'}})\n",
    "# Replace 'Employer in own family-operated farm or business' with 'Employer in Family Business'\n",
    "df = df.replace({'Household Head Class of Worker':{'Employer in own family-operated farm or business':'Self Employed'}})\n",
    "# Replace 'Worked for government/government corporation' with 'Government Employment'\n",
    "df = df.replace({'Household Head Class of Worker':{'Worked for government/government corporation':'Government Employment'}})\n",
    "# Replace 'Worked without pay in own family-operated farm or business' with 'Employee in Family Business(w/o pay)'\n",
    "df = df.replace({'Household Head Class of Worker':{'Worked without pay in own family-operated farm or business':'Employee in Family Business'}})\n",
    "# Replace 'Worked with pay in own family-operated farm or business' with 'Employee in Family Business(w/ pay)'\n",
    "df = df.replace({'Household Head Class of Worker':{'Worked with pay in own family-operated farm or business':'Employee in Family Business'}})"
   ]
  },
  {
   "cell_type": "markdown",
   "metadata": {},
   "source": [
    "- Group similar values for 'Household Head Occupation"
   ]
  },
  {
   "cell_type": "code",
   "execution_count": null,
   "metadata": {},
   "outputs": [],
   "source": [
    "# Replace rows containing 'farmers' with 'Farmers'\n",
    "df.loc[df['Household Head Occupation'].str.contains('farmers'),'Household Head Occupation'] = 'Farmers'\n",
    "# Replace rows containing 'laborers' with 'Laborers'\n",
    "df.loc[df['Household Head Occupation'].str.contains('laborers'),'Household Head Occupation'] = 'Laborers'\n",
    "# Replace rows containing 'engineers' with 'Engineers'\n",
    "df.loc[df['Household Head Occupation'].str.contains('engineer'),'Household Head Occupation'] = 'Engineers'\n",
    "df.loc[df['Household Head Occupation'].str.contains('Engineer'),'Household Head Occupation'] = 'Engineers'\n",
    "# Replace rows containing 'drivers' with 'Drivers'\n",
    "df.loc[df['Household Head Occupation'].str.contains('drivers'),'Household Head Occupation'] = 'Drivers'\n",
    "# Replace rows containing 'managers' with 'Managers'\n",
    "df.loc[df['Household Head Occupation'].str.contains('managers'),'Household Head Occupation'] = 'Managers'\n",
    "# Replace rows containing 'fish' with 'Fishermen'\n",
    "df.loc[df['Household Head Occupation'].str.contains('fish'),'Household Head Occupation'] = 'Fishermen'\n",
    "# Replace rows containing 'professionals' with 'Professionals'\n",
    "df.loc[df['Household Head Occupation'].str.contains('professionals'),'Household Head Occupation'] = 'Professionals'\n",
    "# Replace rows containing 'school' with 'Schoolworkers'\n",
    "df.loc[df['Household Head Occupation'].str.contains('school'),'Household Head Occupation'] = 'Schoolworkers'\n",
    "df.loc[df['Household Head Occupation'].str.contains('School'),'Household Head Occupation'] = 'Schoolworkers'\n",
    "# Replace rows containing 'clerks' with 'Clerks'\n",
    "df.loc[df['Household Head Occupation'].str.contains('clerks'),'Household Head Occupation'] = 'Clerks'\n",
    "# Replace rows containing 'government' with 'Public Official'\n",
    "df.loc[df['Household Head Occupation'].str.contains('government'),'Household Head Occupation'] = 'Public Official'\n",
    "df.loc[df['Household Head Occupation'].str.contains('Government'),'Household Head Occupation'] = 'Public Official'\n",
    "# Replace rows containing 'n. e. c.' with 'n.e.c. trained Professionals'\n",
    "df.loc[df['Household Head Occupation'].str.contains('n. e. c.'),'Household Head Occupation'] = 'n.e.c. trained professionals'\n",
    "# Replace rows containing 'n. e. c.' with 'n.e.c. trained Professionals'\n",
    "df.loc[df['Household Head Occupation'].str.contains('n. e. c.'),'Household Head Occupation'] = 'n.e.c. trained professionals'\n",
    "# Replace rows containing 'operators' with 'Operators'\n",
    "df.loc[df['Household Head Occupation'].str.contains('operators'),'Household Head Occupation'] = 'Operators'\n",
    "# Replace rows containing 'workers' with 'Operators'\n",
    "df.loc[df['Household Head Occupation'].str.contains('workers'),'Household Head Occupation'] = 'Workers'\n",
    "# Replace rows containing 'cleaners' with 'Cleaners'\n",
    "df.loc[df['Household Head Occupation'].str.contains('cleaners'),'Household Head Occupation'] = 'Cleaners'\n",
    "# Replace rows containing 'Police' with 'Police'\n",
    "df.loc[df['Household Head Occupation'].str.contains('Police'),'Household Head Occupation'] = 'Police'\n",
    "# Replace rows containing 'supervisors' with 'Supervisors'\n",
    "df.loc[df['Household Head Occupation'].str.contains('supervisors'),'Household Head Occupation'] = 'Supervisors'\n",
    "# Group medical related occupations into 'Medical Professional'\n",
    "df = df.replace({'Household Head Occupation':{'Medical technologists':'Medical Professional', 'Physiotherapists':'Medical Professional',\n",
    "                                              'Optometrists and opticians':'Medical Professional', 'Veterinarians':'Medical Professional', \n",
    "                                              'Dentists':'Medical Professional', 'Medical doctors':'Medical Professional', \n",
    "                                              'Pharmacists':'Medical Professional', 'Medical assistants':'Medical Professional'}})\n"
   ]
  },
  {
   "cell_type": "code",
   "execution_count": null,
   "metadata": {},
   "outputs": [],
   "source": [
    "# Correct the values of 'Region'\n",
    "df = df.replace({'Region':{'Caraga':'Region XIII', 'VI - Western Visayas':'Region VI', \n",
    "                           'V - Bicol Region':'Region V', ' ARMM':'BARMM', 'III - Central Luzon':'Region III',\n",
    "                           'II - Cagayan Valley':'Region II', 'IVA - CALABARZON':'Region IV-A', \n",
    "                           'VII - Central Visayas':'Region VII','X - Northern Mindanao':'Region X', 'XI - Davao Region':'Region XI',\n",
    "                           'VIII - Eastern Visayas':'Region VIII', 'I - Ilocos Region':'Region I', 'IVB - MIMAROPA':'Region IV-B', \n",
    "                           'XII - SOCCSKSARGEN':'Region XII','IX - Zasmboanga Peninsula':'Region IX'}})"
   ]
  },
  {
   "cell_type": "code",
   "execution_count": null,
   "metadata": {},
   "outputs": [],
   "source": [
    "# Sort the DataFrame\n",
    "df = df.sort_values(by=['Total Household Income'], ascending = True)"
   ]
  },
  {
   "cell_type": "code",
   "execution_count": null,
   "metadata": {},
   "outputs": [],
   "source": [
    "df.to_csv(\"Capstone_DW.csv\")"
   ]
  },
  {
   "cell_type": "code",
   "execution_count": null,
   "metadata": {},
   "outputs": [],
   "source": [
    "df_mean = round(df.groupby('Region').mean(numeric_only = True).reset_index(), 2)"
   ]
  },
  {
   "cell_type": "code",
   "execution_count": null,
   "metadata": {},
   "outputs": [],
   "source": [
    "df_mean.to_csv('Capstone_Average.csv')"
   ]
  },
  {
   "cell_type": "code",
   "execution_count": null,
   "metadata": {},
   "outputs": [],
   "source": []
  }
 ],
 "metadata": {
  "kernelspec": {
   "display_name": "Python 3",
   "language": "python",
   "name": "python3"
  },
  "language_info": {
   "codemirror_mode": {
    "name": "ipython",
    "version": 3
   },
   "file_extension": ".py",
   "mimetype": "text/x-python",
   "name": "python",
   "nbconvert_exporter": "python",
   "pygments_lexer": "ipython3",
   "version": "3.11.4"
  },
  "orig_nbformat": 4
 },
 "nbformat": 4,
 "nbformat_minor": 2
}
