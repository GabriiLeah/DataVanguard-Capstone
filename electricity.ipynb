{
 "cells": [
  {
   "cell_type": "code",
   "execution_count": null,
   "metadata": {},
   "outputs": [],
   "source": [
    "# Import the required libraries\n",
    "import pandas as pd\n",
    "import plotly.graph_objects as go\n",
    "import seaborn as sns\n",
    "import matplotlib.pyplot as plt"
   ]
  },
  {
   "cell_type": "code",
   "execution_count": null,
   "metadata": {},
   "outputs": [],
   "source": [
    "# Loading the CSV file into a Pandas DataFrame\n",
    "data = pd.read_csv('Capstone_DW.csv')"
   ]
  },
  {
   "cell_type": "code",
   "execution_count": null,
   "metadata": {},
   "outputs": [],
   "source": [
    "data.head()"
   ]
  },
  {
   "cell_type": "code",
   "execution_count": null,
   "metadata": {},
   "outputs": [],
   "source": [
    "# Get the \"Electricity\" column\n",
    "electricity_data = data['Electricity']\n",
    "electricity_data"
   ]
  },
  {
   "cell_type": "code",
   "execution_count": null,
   "metadata": {},
   "outputs": [],
   "source": [
    "# Get the \"Region\" column\n",
    "region_data = data['Region']\n",
    "region_data"
   ]
  },
  {
   "cell_type": "code",
   "execution_count": null,
   "metadata": {},
   "outputs": [],
   "source": [
    "# Data info\n",
    "electricity_data.info()"
   ]
  },
  {
   "cell_type": "code",
   "execution_count": null,
   "metadata": {},
   "outputs": [],
   "source": [
    "# Data info\n",
    "region_data.info()"
   ]
  },
  {
   "cell_type": "code",
   "execution_count": null,
   "metadata": {},
   "outputs": [],
   "source": [
    "# Check the columns data count\n",
    "electricity_data.count()\n",
    "electricity_data_count = electricity_data.count()\n",
    "print(electricity_data_count)"
   ]
  },
  {
   "cell_type": "code",
   "execution_count": null,
   "metadata": {},
   "outputs": [],
   "source": [
    "# Check the columns data count\n",
    "region_data.count()\n",
    "region_data_count = electricity_data.count()\n",
    "print(region_data_count)"
   ]
  },
  {
   "cell_type": "code",
   "execution_count": null,
   "metadata": {},
   "outputs": [],
   "source": [
    "# Check if there is a null values\n",
    "electricity_data.isnull().sum()"
   ]
  },
  {
   "cell_type": "code",
   "execution_count": null,
   "metadata": {},
   "outputs": [],
   "source": [
    "# Check if there is a null values\n",
    "region_data.isnull().sum()"
   ]
  },
  {
   "cell_type": "code",
   "execution_count": null,
   "metadata": {},
   "outputs": [],
   "source": [
    "# Check unique values\n",
    "unique_region = region_data.unique()\n",
    "print(unique_region)\n",
    "print(len(unique_region))\n"
   ]
  },
  {
   "cell_type": "code",
   "execution_count": null,
   "metadata": {},
   "outputs": [],
   "source": [
    "# Replace the values with the boolean values\n",
    "electricity_data.replace({1: True, 0: False}, inplace=True)"
   ]
  },
  {
   "cell_type": "code",
   "execution_count": null,
   "metadata": {},
   "outputs": [],
   "source": [
    "electricity_data.value_counts()"
   ]
  },
  {
   "cell_type": "code",
   "execution_count": null,
   "metadata": {},
   "outputs": [],
   "source": [
    "# Check which families has SUITABLE HOUSE AREA (>= 10.2)\n",
    "# Check which families has UNSUITABLE HOUSE AREA (< 10.2)\n",
    "\n",
    "has_electricity =  electricity_data.value_counts().loc[True]\n",
    "no_electricity =  electricity_data.value_counts().loc[False]\n",
    "\n",
    "print(\"Household that have electricity: \", has_electricity)\n",
    "print(\"Household that have no electricity: \", no_electricity)"
   ]
  },
  {
   "cell_type": "code",
   "execution_count": null,
   "metadata": {},
   "outputs": [],
   "source": [
    "# Concat two datas into data frame\n",
    "concat_data = pd.concat([electricity_data,region_data], axis=1)\n",
    "concat_data"
   ]
  },
  {
   "cell_type": "code",
   "execution_count": null,
   "metadata": {},
   "outputs": [],
   "source": [
    "print(concat_data[(concat_data['Region'] == 'BARMM')].value_counts())\n",
    "print(concat_data[(concat_data['Region'] == 'CAR')].value_counts())\n",
    "print(concat_data[(concat_data['Region'] == 'NCR')].value_counts())"
   ]
  },
  {
   "cell_type": "code",
   "execution_count": null,
   "metadata": {},
   "outputs": [],
   "source": [
    "# Get the percentage by region in which families has electricity and not\n",
    "avg_by_region = concat_data.groupby('Region')['Electricity'].mean()\n",
    "print(avg_by_region)"
   ]
  },
  {
   "cell_type": "code",
   "execution_count": null,
   "metadata": {},
   "outputs": [],
   "source": [
    "# # Create pie chart for families with reliable and unreliable water supply\n",
    "# labels = ['Has Electricity','No Electricity']\n",
    "# values = [has_electricity,no_electricity]\n",
    "# colors = ['#af6458', '#d9af6b']\n",
    "\n",
    "# # fig = go.Figure(data=[go.Pie(labels=labels, values=values)])\n",
    "# # # fig.update_traces(hoverinfo='label+percent', textinfo='percent', textfont_size=20,\n",
    "# # #                   marker=dict(colors=colors))\n",
    "# # fig.update_traces(hoverinfo='label+percent', textinfo='percent', textfont_size=20,\n",
    "# #                   marker=dict(colors=colors, line=dict(color='#000000', width=2)))\n",
    "# # fig.show()\n",
    "\n",
    "\n",
    "# elec_fig = go.Figure(data=[go.Pie(labels=labels, values=values)])\n",
    "# # fig.update_traces(hoverinfo='label+percent', textinfo='percent', textfont_size=20,\n",
    "# #                   marker=dict(colors=colors))\n",
    "# elec_fig.update_traces(hoverinfo='label+percent', textinfo='percent', textfont_size=20,\n",
    "#                   marker=dict(colors=colors, line=dict(color='#000000', width=2)))\n",
    "# elec_fig.show()"
   ]
  }
 ],
 "metadata": {
  "kernelspec": {
   "display_name": "Python 3",
   "language": "python",
   "name": "python3"
  },
  "language_info": {
   "codemirror_mode": {
    "name": "ipython",
    "version": 3
   },
   "file_extension": ".py",
   "mimetype": "text/x-python",
   "name": "python",
   "nbconvert_exporter": "python",
   "pygments_lexer": "ipython3",
   "version": "3.11.4"
  },
  "orig_nbformat": 4
 },
 "nbformat": 4,
 "nbformat_minor": 2
}
