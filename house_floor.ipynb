{
 "cells": [
  {
   "cell_type": "code",
   "execution_count": null,
   "metadata": {},
   "outputs": [],
   "source": [
    "# Import the required libraries\n",
    "import pandas as pd\n",
    "import plotly.graph_objects as go"
   ]
  },
  {
   "cell_type": "code",
   "execution_count": null,
   "metadata": {},
   "outputs": [],
   "source": [
    "# Loading the CSV file into a Pandas DataFrame\n",
    "data = pd.read_csv('Capstone_DW.csv')"
   ]
  },
  {
   "cell_type": "code",
   "execution_count": null,
   "metadata": {},
   "outputs": [],
   "source": [
    "data.head()"
   ]
  },
  {
   "cell_type": "code",
   "execution_count": null,
   "metadata": {},
   "outputs": [],
   "source": [
    "# Get the \"Main Source of Water Supply\" column\n",
    "house_area_data = data['House Floor Area']\n",
    "house_area_data"
   ]
  },
  {
   "cell_type": "code",
   "execution_count": null,
   "metadata": {},
   "outputs": [],
   "source": [
    "# Data info\n",
    "house_area_data.info()"
   ]
  },
  {
   "cell_type": "code",
   "execution_count": null,
   "metadata": {},
   "outputs": [],
   "source": [
    "# Check the unique data\n",
    "house_area_data.unique()"
   ]
  },
  {
   "cell_type": "code",
   "execution_count": null,
   "metadata": {},
   "outputs": [],
   "source": [
    "# Check the water source unique data count\n",
    "len(house_area_data.unique())"
   ]
  },
  {
   "cell_type": "code",
   "execution_count": null,
   "metadata": {},
   "outputs": [],
   "source": [
    "# Check the columns data count\n",
    "house_area_data.count()\n",
    "house_area_data_count = house_area_data.count()\n",
    "print(house_area_data_count)"
   ]
  },
  {
   "cell_type": "code",
   "execution_count": null,
   "metadata": {},
   "outputs": [],
   "source": [
    "# Check if there is a null values\n",
    "house_area_data.isnull().sum()"
   ]
  },
  {
   "cell_type": "code",
   "execution_count": null,
   "metadata": {},
   "outputs": [],
   "source": [
    "# Check which families has SUITABLE HOUSE AREA (>= 10.2)\n",
    "# Check which families has UNSUITABLE HOUSE AREA (< 10.2)\n",
    "\n",
    "family_water_source = house_area_data >= 10.2\n",
    "suitable_house_area =  family_water_source.value_counts().loc[True]\n",
    "unsuitable_house_area =  family_water_source.value_counts().loc[False]\n",
    "\n",
    "print(\"Families that has suitable house area: \", suitable_house_area)\n",
    "print(\"Families that have unsuitable house area: \", unsuitable_house_area)"
   ]
  },
  {
   "cell_type": "code",
   "execution_count": null,
   "metadata": {},
   "outputs": [],
   "source": [
    "# # Create pie chart for families with reliable and unreliable water supply\n",
    "# labels = ['Suitable House Area','Unsuitable House Area']\n",
    "# values = [suitable_house_area,unsuitable_house_area]\n",
    "# colors = ['#af6458', '#d9af6b']\n",
    "\n",
    "# fig = go.Figure(data=[go.Pie(labels=labels, values=values)])\n",
    "# # fig.update_traces(hoverinfo='label+percent', textinfo='percent', textfont_size=20,\n",
    "# #                   marker=dict(colors=colors))\n",
    "# fig.update_traces(hoverinfo='label+percent', textinfo='percent', textfont_size=20,\n",
    "#                   marker=dict(colors=colors, line=dict(color='#000000', width=2)))\n",
    "# fig.show()"
   ]
  }
 ],
 "metadata": {
  "kernelspec": {
   "display_name": "Python 3",
   "language": "python",
   "name": "python3"
  },
  "language_info": {
   "codemirror_mode": {
    "name": "ipython",
    "version": 3
   },
   "file_extension": ".py",
   "mimetype": "text/x-python",
   "name": "python",
   "nbconvert_exporter": "python",
   "pygments_lexer": "ipython3",
   "version": "3.11.4"
  },
  "orig_nbformat": 4
 },
 "nbformat": 4,
 "nbformat_minor": 2
}
