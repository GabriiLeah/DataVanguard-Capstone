{
 "cells": [
  {
   "cell_type": "code",
   "execution_count": null,
   "metadata": {},
   "outputs": [],
   "source": [
    "# !pip install import-ipynb\n",
    "# !pip install pandas\n",
    "# !pip install matplotlib\n",
    "# !pip install plotly\n",
    "# !pip install seaborn\n",
    "# !pip install wordcloud"
   ]
  },
  {
   "cell_type": "code",
   "execution_count": null,
   "metadata": {},
   "outputs": [],
   "source": [
    "# Import necessary libraries\n",
    "import import_ipynb\n",
    "import warnings\n",
    "import matplotlib.pyplot as plt\n",
    "import plotly.express as px\n",
    "import plotly.graph_objs as go\n",
    "import seaborn as sns\n",
    "from plotly.offline import init_notebook_mode\n",
    "from plotly.subplots import make_subplots\n",
    "from wordcloud import WordCloud\n",
    "\n",
    "init_notebook_mode(connected=True)\n",
    "warnings.filterwarnings('ignore')"
   ]
  },
  {
   "cell_type": "markdown",
   "metadata": {},
   "source": [
    "## Employment Factors Data Visualization"
   ]
  },
  {
   "cell_type": "code",
   "execution_count": null,
   "metadata": {},
   "outputs": [],
   "source": [
    "import income_factors"
   ]
  },
  {
   "cell_type": "markdown",
   "metadata": {},
   "source": [
    "### Household Head Highest Grade Completed by Income Class (Pie Chart)"
   ]
  },
  {
   "cell_type": "code",
   "execution_count": null,
   "metadata": {},
   "outputs": [],
   "source": [
    "factor_poor = income_factors.factor_poor\n",
    "factor_middle = income_factors.factor_middle\n",
    "factor_rich = income_factors.factor_rich\n",
    "grade_specs = income_factors.grade_specs\n",
    "grade_plabel = income_factors.grade_plabel\n",
    "grade_mlabel = income_factors.grade_mlabel\n",
    "grade_rlabel = income_factors.grade_rlabel\n",
    "grade_poor = income_factors.grade_poor\n",
    "grade_middle = income_factors.grade_middle\n",
    "grade_rich = income_factors.grade_rich"
   ]
  },
  {
   "cell_type": "code",
   "execution_count": null,
   "metadata": {},
   "outputs": [],
   "source": [
    "# Pie Chart of Household Head Highest Grade Completed by Income Class\n",
    "fig = make_subplots(rows=1, cols=3, specs=grade_specs, subplot_titles=['Poor', 'Middle Class', 'Rich'])\n",
    "fig.add_trace(go.Pie(labels=grade_plabel, values = grade_poor,\n",
    "                     name=\"Poor\", marker_colors=px.colors.qualitative.Antique), \n",
    "              1, 1)\n",
    "fig.add_trace(go.Pie(labels=grade_mlabel, values = grade_middle,\n",
    "                     name=\"Middle Class\", marker_colors=px.colors.qualitative.Antique), \n",
    "              1, 2)\n",
    "fig.add_trace(go.Pie(labels=grade_rlabel,  values = grade_rich,\n",
    "                     name=\"Rich\", marker_colors=px.colors.qualitative.Antique), \n",
    "              1, 3)\n",
    "fig.update_traces(textposition='inside', hole=.3, pull=[0, 0, 0, 0, 0.2, 0, 0, 0, 0])\n",
    "fig.update_layout(title_text='Percent of Household Head Highest Grade Completed by Income Class' ,uniformtext_minsize=10, uniformtext_mode='hide')\n",
    "fig.show()"
   ]
  },
  {
   "cell_type": "markdown",
   "metadata": {},
   "source": [
    "### Percent of Unschooled Household Head with Job/Business (Pie Chart)"
   ]
  },
  {
   "cell_type": "code",
   "execution_count": null,
   "metadata": {},
   "outputs": [],
   "source": [
    "factor_unschool = income_factors.factor_unschool\n",
    "unschool_household_head = income_factors.unschool_household_head"
   ]
  },
  {
   "cell_type": "code",
   "execution_count": null,
   "metadata": {},
   "outputs": [],
   "source": [
    "fig = px.pie(factor_unschool, values=unschool_household_head.values, color=unschool_household_head.index, names=unschool_household_head.index,\n",
    "             hole=.3,\n",
    "             color_discrete_sequence=px.colors.qualitative.Antique)\n",
    "fig.update_traces(pull=[0, 0, 0, 0, 0, 0.2, 0, 0, 0], textposition='inside')\n",
    "fig.update_layout(title_text='Percent of Unschooled Household Head with Job/Business',uniformtext_minsize=15, uniformtext_mode='hide',\n",
    "                  height=1000, title={'font': {'size': 30}}, font={'size': 20})\n",
    "fig.show()"
   ]
  },
  {
   "cell_type": "markdown",
   "metadata": {},
   "source": [
    "### Household Head Occupation (Word Cloud)"
   ]
  },
  {
   "cell_type": "code",
   "execution_count": null,
   "metadata": {},
   "outputs": [],
   "source": [
    "plt.subplots(figsize=(8,8))\n",
    "wordcloud = WordCloud(\n",
    "                          background_color='white',\n",
    "                         ).generate(\" \".join(factor_unschool['Household Head Occupation']))\n",
    "plt.imshow(wordcloud)\n",
    "plt.axis('off')\n",
    "# plt.savefig('graph.png')\n",
    "\n",
    "plt.show()"
   ]
  },
  {
   "cell_type": "markdown",
   "metadata": {},
   "source": [
    "### Percent of Household Head with Formal Education (Pie Chart)"
   ]
  },
  {
   "cell_type": "code",
   "execution_count": null,
   "metadata": {},
   "outputs": [],
   "source": [
    "df_factor = income_factors.df_factor\n",
    "factor_grade = income_factors.factor_grade"
   ]
  },
  {
   "cell_type": "code",
   "execution_count": null,
   "metadata": {},
   "outputs": [],
   "source": [
    "fig = px.pie(df_factor, values=factor_grade.values, color=factor_grade.index, names=factor_grade.index,\n",
    "             title = 'Percent of Household Head with Formal Education',\n",
    "             hole=.3,\n",
    "             color_discrete_sequence=px.colors.qualitative.Antique)\n",
    "fig.update_traces(pull=[0, 0, 0, 0, 0, 0.2, 0, 0, 0], textposition='inside')\n",
    "fig.update_layout(title_text='Percent of Highest Educational Degree Completed by Household Head',uniformtext_minsize=15, uniformtext_mode='hide',\n",
    "                  height=1000, title={'font': {'size': 30}}, font={'size': 20})\n",
    "fig.show()"
   ]
  },
  {
   "cell_type": "markdown",
   "metadata": {},
   "source": [
    "### Histogram of Household Head Highest Grade Completed (Histogram)"
   ]
  },
  {
   "cell_type": "code",
   "execution_count": null,
   "metadata": {},
   "outputs": [],
   "source": [
    "# Histogram of Household Head Highest Grade Completed\n",
    "fig = px.histogram(df_factor, y ='Household Head Highest Grade Completed', \n",
    "                   color = 'Income Class', color_discrete_sequence=px.colors.qualitative.Antique)\n",
    "fig.update_layout(\n",
    "    title='Highest Educational Degree Completed by Household Head',\n",
    "    xaxis_title='Grade Completed',\n",
    "    font=dict(size=15)\n",
    ")\n",
    "fig.update_layout(barmode='relative', yaxis={'categoryorder':'total descending'})\n",
    "\n",
    "fig.show()"
   ]
  },
  {
   "cell_type": "markdown",
   "metadata": {},
   "source": [
    "### Household Head with Job or Business by Income Class (Pie Chart)"
   ]
  },
  {
   "cell_type": "code",
   "execution_count": null,
   "metadata": {},
   "outputs": [],
   "source": [
    "head_specs = income_factors.head_specs\n",
    "head_plabel = income_factors.head_plabel\n",
    "head_mlabel = income_factors.head_mlabel\n",
    "head_rlabel = income_factors.head_rlabel\n",
    "head_poor = income_factors.head_poor\n",
    "head_middle = income_factors.head_middle\n",
    "head_rich = income_factors.head_rich"
   ]
  },
  {
   "cell_type": "code",
   "execution_count": null,
   "metadata": {},
   "outputs": [],
   "source": [
    "# Pie Chart of Household Head with Job or Business by Income Class\n",
    "head_plabel = factor_poor['Household Head Job or Business Indicator'].value_counts().index\n",
    "head_mlabel = factor_middle['Household Head Job or Business Indicator'].value_counts().index\n",
    "head_rlabel = factor_rich['Household Head Job or Business Indicator'].value_counts().index\n",
    "\n",
    "head_poor = factor_poor['Household Head Job or Business Indicator'].value_counts()\n",
    "head_middle = factor_middle['Household Head Job or Business Indicator'].value_counts()\n",
    "head_rich = factor_rich['Household Head Job or Business Indicator'].value_counts()\n",
    "\n",
    "head_specs = [[{'type':'domain'}, {'type':'domain'}, {'type':'domain'}]]\n",
    "fig = make_subplots(rows=1, cols=3, specs=head_specs, subplot_titles=['Poor', 'Middle Class', 'Rich'])\n",
    "\n",
    "fig.add_trace(go.Pie(labels=head_plabel, values = head_poor,\n",
    "                     name=\"Poor\", marker_colors=px.colors.qualitative.Antique), \n",
    "              1, 1)\n",
    "fig.add_trace(go.Pie(labels=head_mlabel, values = head_middle,\n",
    "                     name=\"Middle Class\", marker_colors=px.colors.qualitative.Antique), \n",
    "              1, 2)\n",
    "fig.add_trace(go.Pie(labels=head_rlabel,  values = head_rich,\n",
    "                     name=\"Rich\", marker_colors=px.colors.qualitative.Antique), \n",
    "              1, 3)\n",
    "\n",
    "fig.update_traces(textposition='inside')\n",
    "fig.update_layout(title_text='Percent of Household Head with Job or Business by Income Class' ,uniformtext_minsize=10, uniformtext_mode='hide')\n",
    "fig.show()"
   ]
  },
  {
   "cell_type": "markdown",
   "metadata": {},
   "source": [
    "### Household Head Job or Business Indicator versus Income Class (Histogram)"
   ]
  },
  {
   "cell_type": "code",
   "execution_count": null,
   "metadata": {},
   "outputs": [],
   "source": [
    "# Histogram of Household Head Job or Business Indicator versus Income Class\n",
    "fig = px.histogram(df_factor, y='Household Head Job or Business Indicator', color = 'Income Class', \n",
    "                   color_discrete_sequence=px.colors.qualitative.Antique)\n",
    "fig.update_layout(\n",
    "    title='Household Head Job or Business Vs. Income Class',\n",
    "    xaxis_title='With Job or Business',\n",
    "    font=dict(size=15)\n",
    ")\n",
    "fig.update_layout(barmode='group', yaxis={'categoryorder':'total descending'})\n",
    "\n",
    "fig.show()"
   ]
  },
  {
   "cell_type": "markdown",
   "metadata": {},
   "source": [
    "### Household Head Job or Business Indicator versus Household Head Class of Worker (Histogram)"
   ]
  },
  {
   "cell_type": "code",
   "execution_count": null,
   "metadata": {},
   "outputs": [],
   "source": [
    "factor_wage = income_factors.factor_wage\n",
    "factor_enterpre = income_factors.factor_enterpre\n",
    "factor_other = income_factors.factor_other"
   ]
  },
  {
   "cell_type": "code",
   "execution_count": null,
   "metadata": {},
   "outputs": [],
   "source": [
    "# Histogram of Household Head Job or Business Indicator versus Household Head Class of Worker\n",
    "fig = px.histogram(factor_wage, y='Main Source of Income', color = 'Income Class', \n",
    "                   color_discrete_sequence=px.colors.qualitative.Antique)\n",
    "fig.update_layout(\n",
    "    title='Wage/Salaries by Income Class',\n",
    "    font=dict(size=15)\n",
    ")\n",
    "fig.update_layout(barmode = 'group', yaxis={'categoryorder':'total descending'})\n",
    "\n",
    "fig.show()"
   ]
  },
  {
   "cell_type": "markdown",
   "metadata": {},
   "source": [
    "### Percent of Wage/Salaries by Income Class (Pie Chart)"
   ]
  },
  {
   "cell_type": "code",
   "execution_count": null,
   "metadata": {},
   "outputs": [],
   "source": [
    "factor_income_wage = income_factors.factor_income_wage"
   ]
  },
  {
   "cell_type": "code",
   "execution_count": null,
   "metadata": {},
   "outputs": [],
   "source": [
    "fig = px.pie(factor_wage, values=factor_income_wage.values, color=factor_income_wage.index, names=factor_income_wage.index,\n",
    "             hole=.3,\n",
    "             color_discrete_sequence=px.colors.qualitative.Antique)\n",
    "fig.update_traces(pull=[0, 0, 0, 0, 0, 0.2, 0, 0, 0], textposition='inside')\n",
    "fig.update_layout(title_text='Percent of Wage/Salaries by Income Class',uniformtext_minsize=15, uniformtext_mode='hide',\n",
    "                  height=1000, title={'font': {'size': 30}}, font={'size': 20})\n",
    "fig.show()"
   ]
  },
  {
   "cell_type": "markdown",
   "metadata": {},
   "source": [
    "### Enterpreneurial Activities by Income Class (Histogram)"
   ]
  },
  {
   "cell_type": "code",
   "execution_count": null,
   "metadata": {},
   "outputs": [],
   "source": [
    "fig = px.histogram(factor_enterpre, y='Main Source of Income', color = 'Income Class', \n",
    "                   color_discrete_sequence=px.colors.qualitative.Antique)\n",
    "fig.update_layout(\n",
    "    title='Enterpreneurial Activities by Income Class',\n",
    "    font=dict(size=15)\n",
    ")\n",
    "fig.update_layout(barmode = 'group', yaxis={'categoryorder':'total descending'})\n",
    "\n",
    "fig.show()"
   ]
  },
  {
   "cell_type": "markdown",
   "metadata": {},
   "source": [
    "### Percent of Enterpreneurial Activities by Income Class (Pie Chart)"
   ]
  },
  {
   "cell_type": "code",
   "execution_count": null,
   "metadata": {},
   "outputs": [],
   "source": [
    "factor_enterpre_income = income_factors.factor_enterpre_income"
   ]
  },
  {
   "cell_type": "code",
   "execution_count": null,
   "metadata": {},
   "outputs": [],
   "source": [
    "fig = px.pie(factor_enterpre, values=factor_enterpre_income.values, color=factor_enterpre_income.index, names=factor_enterpre_income.index,\n",
    "             hole=.3,\n",
    "             color_discrete_sequence=px.colors.qualitative.Antique)\n",
    "fig.update_traces(pull=[0, 0, 0, 0, 0, 0.2, 0, 0, 0], textposition='inside')\n",
    "fig.update_layout(title_text='Percent of Enterpreneurial Activities by Income Class',uniformtext_minsize=15, uniformtext_mode='hide',\n",
    "                  height=1000, title={'font': {'size': 30}}, font={'size': 20})\n",
    "fig.show()"
   ]
  },
  {
   "cell_type": "markdown",
   "metadata": {},
   "source": [
    "### Household Head Job or Business Indicator versus Household Head Class of Worker (Histogram)"
   ]
  },
  {
   "cell_type": "code",
   "execution_count": null,
   "metadata": {},
   "outputs": [],
   "source": [
    "# Histogram of Household Head Job or Business Indicator versus Household Head Class of Worker\n",
    "fig = px.histogram(df_factor, y='Household Head Job or Business Indicator', color = 'Main Source of Income', \n",
    "                   color_discrete_sequence=px.colors.qualitative.Antique)\n",
    "fig.update_layout(\n",
    "    title='Job/Business Indicator Vs. Main Source of Income',\n",
    "    xaxis_title='Job/Business Indicator',\n",
    "    font=dict(size=15)\n",
    ")\n",
    "fig.update_layout(barmode = 'group', yaxis={'categoryorder':'total descending'})\n",
    "\n",
    "fig.show()"
   ]
  },
  {
   "cell_type": "markdown",
   "metadata": {},
   "source": [
    "### Percent of Other Sources of Income by Income Class (Pie Chart)"
   ]
  },
  {
   "cell_type": "code",
   "execution_count": null,
   "metadata": {},
   "outputs": [],
   "source": [
    "factor_other_income = income_factors.factor_other_income"
   ]
  },
  {
   "cell_type": "code",
   "execution_count": null,
   "metadata": {},
   "outputs": [],
   "source": [
    "fig = px.pie(factor_other, values=factor_other_income.values, color=factor_other_income.index, names=factor_other_income.index,\n",
    "             hole=.3,\n",
    "             color_discrete_sequence=px.colors.qualitative.Antique)\n",
    "fig.update_traces(pull=[0, 0, 0, 0, 0, 0.2, 0, 0, 0], textposition='inside')\n",
    "fig.update_layout(title_text='Percent of Other Sources of Income by Income Class',uniformtext_minsize=15, uniformtext_mode='hide',\n",
    "                  height=1000, title={'font': {'size': 30}}, font={'size': 20})\n",
    "fig.show()"
   ]
  },
  {
   "cell_type": "markdown",
   "metadata": {},
   "source": [
    "### Main Source of Income by Income Class (Pie Chart)"
   ]
  },
  {
   "cell_type": "code",
   "execution_count": null,
   "metadata": {},
   "outputs": [],
   "source": [
    "income_specs = income_factors.income_specs\n",
    "income_plabel = income_factors.income_plabel\n",
    "income_mlabel = income_factors.income_mlabel\n",
    "income_rlabel = income_factors.income_rlabel\n",
    "income_poor = income_factors.income_poor\n",
    "income_middle = income_factors.income_middle\n",
    "income_rich = income_factors.income_rich"
   ]
  },
  {
   "cell_type": "code",
   "execution_count": null,
   "metadata": {},
   "outputs": [],
   "source": [
    "# Pie Chart of Main Source of Income by Income Class\n",
    "fig = make_subplots(rows=1, cols=3, specs=income_specs, subplot_titles=['Poor', 'Middle Class', 'Rich'])\n",
    "\n",
    "fig.add_trace(go.Pie(labels=income_plabel, values = income_poor,\n",
    "                     name=\"Poor\", marker_colors=px.colors.qualitative.Antique), \n",
    "              1, 1)\n",
    "fig.add_trace(go.Pie(labels=income_mlabel, values = income_middle,\n",
    "                     name=\"Middle Class\", marker_colors=px.colors.qualitative.Antique), \n",
    "              1, 2)\n",
    "fig.add_trace(go.Pie(labels=income_rlabel,  values = income_rich,\n",
    "                     name=\"Rich\", marker_colors=px.colors.qualitative.Antique), \n",
    "              1, 3)\n",
    "\n",
    "fig.update_traces(textposition='inside')\n",
    "fig.update_layout(title_text='Percent of Main Source of Income by Income Class' ,uniformtext_minsize=10, uniformtext_mode='hide')\n",
    "fig.show()"
   ]
  },
  {
   "cell_type": "markdown",
   "metadata": {},
   "source": [
    "### Percent of Highest Educational Degree Completed by Household Head (Pie Chart)"
   ]
  },
  {
   "cell_type": "code",
   "execution_count": null,
   "metadata": {},
   "outputs": [],
   "source": [
    "factor_income_source = income_factors.factor_income_source"
   ]
  },
  {
   "cell_type": "code",
   "execution_count": null,
   "metadata": {},
   "outputs": [],
   "source": [
    "fig = px.pie(df_factor, values=factor_income_source.values, color=factor_income_source.index, names=factor_income_source.index,\n",
    "             title = 'Percent of Household Head with Formal Education',\n",
    "             hole=.3,\n",
    "             color_discrete_sequence=px.colors.qualitative.Antique)\n",
    "fig.update_traces(pull=[0, 0, 0, 0, 0, 0.2, 0, 0, 0], textposition='inside')\n",
    "fig.update_layout(title_text='Percent of Highest Educational Degree Completed by Household Head',uniformtext_minsize=15, uniformtext_mode='hide',\n",
    "                  height=1000, title={'font': {'size': 30}}, font={'size': 20})\n",
    "fig.show()"
   ]
  },
  {
   "cell_type": "markdown",
   "metadata": {},
   "source": [
    "### Household Head Class of Worker (Word Cloud)"
   ]
  },
  {
   "cell_type": "code",
   "execution_count": null,
   "metadata": {},
   "outputs": [],
   "source": [
    "plt.subplots(figsize=(8,8))\n",
    "wordcloud = WordCloud(\n",
    "                          background_color='white',\n",
    "                         ).generate(\" \".join(df_factor[\"Household Head Class of Worker\"]))\n",
    "plt.imshow(wordcloud)\n",
    "plt.axis('off')\n",
    "# plt.savefig('graph.png')\n",
    "plt.show()"
   ]
  },
  {
   "cell_type": "markdown",
   "metadata": {},
   "source": [
    "### Main Source of Income Distribution (Histogram)"
   ]
  },
  {
   "cell_type": "code",
   "execution_count": null,
   "metadata": {},
   "outputs": [],
   "source": [
    "fig = px.histogram(df_factor, color = 'Main Source of Income', y = 'Household Head Class of Worker',\n",
    "                   color_discrete_sequence=px.colors.qualitative.Antique)\n",
    "fig.update_layout(\n",
    "    title='Main Source of Income Distribution',\n",
    "    xaxis_title='Main Source of Income',\n",
    "    font=dict(size=15)\n",
    ")\n",
    "fig.update_layout(barmode = 'group', xaxis={'categoryorder':'total descending'})\n",
    "fig.show()"
   ]
  },
  {
   "cell_type": "markdown",
   "metadata": {},
   "source": [
    "## Income and Expenditures Data Visualization"
   ]
  },
  {
   "cell_type": "code",
   "execution_count": null,
   "metadata": {},
   "outputs": [],
   "source": [
    "# Import income_expenditures.ipynb\n",
    "import income_expenditures\n"
   ]
  },
  {
   "cell_type": "code",
   "execution_count": null,
   "metadata": {},
   "outputs": [],
   "source": [
    "income_counts = income_expenditures.income_counts\n",
    "income_classes = income_expenditures.income_classes\n",
    "df_income = income_expenditures.df"
   ]
  },
  {
   "cell_type": "markdown",
   "metadata": {},
   "source": [
    "### Income Class Distribution (Pie Plot)"
   ]
  },
  {
   "cell_type": "code",
   "execution_count": null,
   "metadata": {},
   "outputs": [],
   "source": [
    "# Income Class Distribution (Pie Plot)\n",
    "# Custom shades of brown (you can modify or add more colors as needed)\n",
    "colors = ['#8B4513', '#A0522D', '#CD853F', '#D2691E']\n",
    "\n",
    "# Create the pie chart\n",
    "plt.figure(figsize=(8, 8))\n",
    "plt.pie(income_counts, labels=income_classes, colors=colors, autopct=lambda pct: f\"{pct:.1f}% ({int(pct/100*len(df_income))})\" if pct >= 5 else '', startangle=90)\n",
    "\n",
    "# Add a title to the pie chart\n",
    "plt.title('Income Class Distribution')\n",
    "\n",
    "# Display the pie chart\n",
    "plt.show()"
   ]
  },
  {
   "cell_type": "markdown",
   "metadata": {},
   "source": [
    "### Total Expenditure vs Total Income (Scatter Plot)"
   ]
  },
  {
   "cell_type": "code",
   "execution_count": null,
   "metadata": {},
   "outputs": [],
   "source": [
    "income_data = income_expenditures.df\n",
    "income_data['Total Expenditure']=income_data['Bread and Cereals Expenditure']+income_data['Total Rice Expenditure']+income_data['Meat Expenditure']+income_data['Total Fish and  marine products Expenditure']+income_data['Fruit Expenditure']+income_data['Vegetables Expenditure']+income_data['Restaurant and hotels Expenditure']+income_data['Alcoholic Beverages Expenditure']+income_data['Tobacco Expenditure']+income_data['Clothing, Footwear and Other Wear Expenditure']+income_data['Housing and water Expenditure']+income_data['Medical Care Expenditure']+income_data['Transportation Expenditure']+income_data['Communication Expenditure']+income_data['Education Expenditure']+income_data['Miscellaneous Goods and Services Expenditure']+income_data['Special Occasions Expenditure']+income_data['Crop Farming and Gardening expenses']"
   ]
  },
  {
   "cell_type": "code",
   "execution_count": null,
   "metadata": {},
   "outputs": [],
   "source": [
    "# Total Expenditure vs Total Income (Scatter Plot)\n",
    "plt.figure(figsize = (16, 9))\n",
    "\n",
    "sns.scatterplot(data=income_data, x=\"Total Household Income\", y='Total Expenditure', hue='Income Class')\n",
    "plt.title('Total Expenditure vs Total Income',fontsize = 20)\n",
    "plt.ylabel('Total Expenditure',fontsize = 14)\n",
    "plt.xlabel('Total Income',fontsize = 14)\n",
    "plt.show()"
   ]
  },
  {
   "cell_type": "markdown",
   "metadata": {},
   "source": [
    "### Total Income and Expendentures by Income Class (Bar Plot)"
   ]
  },
  {
   "cell_type": "code",
   "execution_count": null,
   "metadata": {},
   "outputs": [],
   "source": [
    "income_class_values = income_expenditures.x_values\n",
    "total_income = income_expenditures.total_income\n",
    "total_expenditure = income_expenditures.total_expenditure\n"
   ]
  },
  {
   "cell_type": "code",
   "execution_count": null,
   "metadata": {},
   "outputs": [],
   "source": [
    "# Total Income and Expendentures by Income Class (Bar Plot)\n",
    "colors = ['#8B4513', '#CD853F']\n",
    "\n",
    "fig, ax = plt.subplots(figsize=(8, 6))\n",
    "width = 0.35  # Width of the bars\n",
    "x = range(len(income_class_values))\n",
    "\n",
    "ax.bar(x, total_income, width, label='Total Income', color=colors[0])\n",
    "ax.bar([pos + width for pos in x], total_expenditure, width, label='Total Expenditure', color=colors[1])\n",
    "\n",
    "ax.set_xlabel('Income Class')\n",
    "ax.set_ylabel('Amount')\n",
    "ax.set_title('Total Income and Total Expenditure by Income Class')\n",
    "ax.set_xticks([pos + width / 2 for pos in x])\n",
    "ax.set_xticklabels(income_class_values)\n",
    "ax.legend()\n",
    "\n",
    "plt.show()"
   ]
  },
  {
   "cell_type": "markdown",
   "metadata": {},
   "source": [
    "## Electricity Data Visualization"
   ]
  },
  {
   "cell_type": "code",
   "execution_count": null,
   "metadata": {},
   "outputs": [],
   "source": [
    "# Import electricity.ipynb\n",
    "import electricity \n"
   ]
  },
  {
   "cell_type": "markdown",
   "metadata": {},
   "source": [
    "### Electricity (Pie Chart)"
   ]
  },
  {
   "cell_type": "code",
   "execution_count": null,
   "metadata": {},
   "outputs": [],
   "source": [
    "has_electricity = electricity.has_electricity\n",
    "no_electricity = electricity.no_electricity"
   ]
  },
  {
   "cell_type": "code",
   "execution_count": null,
   "metadata": {},
   "outputs": [],
   "source": [
    "# Create pie chart for families with reliable and unreliable water supply\n",
    "labels = ['Has Electricity','No Electricity']\n",
    "values = [has_electricity,no_electricity]\n",
    "colors = ['#af6458', '#d9af6b']\n",
    "\n",
    "fig = go.Figure(data=[go.Pie(labels=labels, values=values)])\n",
    "# fig.update_traces(hoverinfo='label+percent', textinfo='percent', textfont_size=20,\n",
    "#                   marker=dict(colors=colors))\n",
    "fig.update_traces(hoverinfo='label+percent', textinfo='percent', textfont_size=20,\n",
    "                  marker=dict(colors=colors, line=dict(color='#000000', width=2)))\n",
    "fig.show()"
   ]
  },
  {
   "cell_type": "markdown",
   "metadata": {},
   "source": []
  },
  {
   "cell_type": "markdown",
   "metadata": {},
   "source": [
    "## Water Data Visualization"
   ]
  },
  {
   "cell_type": "code",
   "execution_count": null,
   "metadata": {},
   "outputs": [],
   "source": [
    "# Import water.ipynb\n",
    "import water\n"
   ]
  },
  {
   "cell_type": "markdown",
   "metadata": {},
   "source": [
    "### Water Supply Sources (Bar Chart)"
   ]
  },
  {
   "cell_type": "code",
   "execution_count": null,
   "metadata": {},
   "outputs": [],
   "source": [
    "rank_0 = water.rank_0\n",
    "water_rank = water.water_rank\n",
    "water_data = water.water_data\n",
    "reliable_water_source = water.reliable_water_source\n",
    "unreliable_water_source = water.unreliable_water_source"
   ]
  },
  {
   "cell_type": "code",
   "execution_count": null,
   "metadata": {},
   "outputs": [],
   "source": [
    "# Create bar chart for whole water supply sources\n",
    "x = list(filter(lambda label: label != rank_0, water_rank))\n",
    "y  = [water_data[water_data == water_rank[rank]].count() for rank in water_rank if rank != rank_0]\n",
    "\n",
    "# Use textposition='auto' for direct text\n",
    "fig = go.Figure(data=[go.Bar(\n",
    "            x=x, y=y,\n",
    "            text=y,\n",
    "            textposition='auto',\n",
    "        )])\n",
    "\n",
    "fig.show()"
   ]
  },
  {
   "cell_type": "markdown",
   "metadata": {},
   "source": [
    "### Water Supply Sources % (Pie Chart)\n"
   ]
  },
  {
   "cell_type": "code",
   "execution_count": null,
   "metadata": {},
   "outputs": [],
   "source": [
    "# Create pie chart for whole water supply sources\n",
    "x = list(filter(lambda label: label != rank_0, water_rank))\n",
    "y  = [water_data[water_data == water_rank[rank]].count() for rank in water_rank if rank != rank_0]\n",
    "\n",
    "fig = go.Figure(data=[go.Pie(labels=x, values=y)])\n",
    "# fig.update_traces(hoverinfo='label+percent', textinfo='percent', textfont_size=20,\n",
    "#                   marker=dict(colors=colors))\n",
    "# fig.update_traces(hoverinfo='label+percent', textinfo='percent', textfont_size=20,\n",
    "#                   marker=dict(colors=colors, line=dict(color='#000000', width=2)))\n",
    "fig.update_layout(uniformtext_minsize=15, uniformtext_mode='hide')\n",
    "fig.show()"
   ]
  },
  {
   "cell_type": "markdown",
   "metadata": {},
   "source": [
    "### Reliable and Unreliable Wate Supply % (Pie Chart)"
   ]
  },
  {
   "cell_type": "code",
   "execution_count": null,
   "metadata": {},
   "outputs": [],
   "source": [
    "# Create pie chart for families with reliable and unreliable water supply\n",
    "labels = ['Reliable Water Source','Unreliable Water Source']\n",
    "values = [reliable_water_source,unreliable_water_source]\n",
    "colors = ['#af6458', '#d9af6b']\n",
    "\n",
    "fig = go.Figure(data=[go.Pie(labels=labels, values=values)])\n",
    "# fig.update_traces(hoverinfo='label+percent', textinfo='percent', textfont_size=20,\n",
    "#                   marker=dict(colors=colors))\n",
    "fig.update_traces(hoverinfo='label+percent', textinfo='percent', textfont_size=20,\n",
    "                  marker=dict(colors=colors, line=dict(color='#000000', width=2)))\n",
    "fig.show()"
   ]
  },
  {
   "cell_type": "markdown",
   "metadata": {},
   "source": [
    "## House floor Data Visualization"
   ]
  },
  {
   "cell_type": "code",
   "execution_count": null,
   "metadata": {},
   "outputs": [],
   "source": [
    "# Import house_floor.ipynb\n",
    "import house_floor"
   ]
  },
  {
   "cell_type": "markdown",
   "metadata": {},
   "source": [
    "### Suitable and Unsuitable House Area % (Pie Chart)"
   ]
  },
  {
   "cell_type": "code",
   "execution_count": null,
   "metadata": {},
   "outputs": [],
   "source": [
    "suitable_house_area = house_floor.suitable_house_area\n",
    "unsuitable_house_area = house_floor.unsuitable_house_area"
   ]
  },
  {
   "cell_type": "code",
   "execution_count": null,
   "metadata": {},
   "outputs": [],
   "source": [
    "# Create pie chart for families with suitable and unsuitable house area\n",
    "labels = ['Suitable House Area','Unsuitable House Area']\n",
    "values = [suitable_house_area,unsuitable_house_area]\n",
    "colors = ['#af6458', '#d9af6b']\n",
    "\n",
    "fig = go.Figure(data=[go.Pie(labels=labels, values=values)])\n",
    "# fig.update_traces(hoverinfo='label+percent', textinfo='percent', textfont_size=20,\n",
    "#                   marker=dict(colors=colors))\n",
    "fig.update_traces(hoverinfo='label+percent', textinfo='percent', textfont_size=20,\n",
    "                  marker=dict(colors=colors, line=dict(color='#000000', width=2)))\n",
    "fig.show()"
   ]
  }
 ],
 "metadata": {
  "kernelspec": {
   "display_name": "Python 3",
   "language": "python",
   "name": "python3"
  },
  "language_info": {
   "codemirror_mode": {
    "name": "ipython",
    "version": 3
   },
   "file_extension": ".py",
   "mimetype": "text/x-python",
   "name": "python",
   "nbconvert_exporter": "python",
   "pygments_lexer": "ipython3",
   "version": "3.11.4"
  },
  "orig_nbformat": 4
 },
 "nbformat": 4,
 "nbformat_minor": 2
}
