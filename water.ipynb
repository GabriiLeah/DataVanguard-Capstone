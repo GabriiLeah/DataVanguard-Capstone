{
 "cells": [
  {
   "cell_type": "code",
   "execution_count": null,
   "metadata": {},
   "outputs": [],
   "source": [
    "# Import the required libraries\n",
    "import pandas as pd\n",
    "import plotly.graph_objects as go"
   ]
  },
  {
   "cell_type": "code",
   "execution_count": null,
   "metadata": {},
   "outputs": [],
   "source": [
    "# Loading the CSV file into a Pandas DataFrame\n",
    "data = pd.read_csv('Capstone_DW.csv')"
   ]
  },
  {
   "cell_type": "code",
   "execution_count": null,
   "metadata": {},
   "outputs": [],
   "source": [
    "data.head()"
   ]
  },
  {
   "cell_type": "code",
   "execution_count": null,
   "metadata": {},
   "outputs": [],
   "source": [
    "# Get the \"Main Source of Water Supply\" column\n",
    "water_data = data['Main Source of Water Supply']\n",
    "water_data"
   ]
  },
  {
   "cell_type": "code",
   "execution_count": null,
   "metadata": {},
   "outputs": [],
   "source": [
    "# Data info\n",
    "water_data.info()"
   ]
  },
  {
   "cell_type": "code",
   "execution_count": null,
   "metadata": {},
   "outputs": [],
   "source": [
    "# Check the unique data\n",
    "water_data.unique()"
   ]
  },
  {
   "cell_type": "code",
   "execution_count": null,
   "metadata": {},
   "outputs": [],
   "source": [
    "# Check the water source unique data count\n",
    "len(water_data.unique())"
   ]
  },
  {
   "cell_type": "code",
   "execution_count": null,
   "metadata": {},
   "outputs": [],
   "source": [
    "# Check the columns data count\n",
    "water_data.count()\n",
    "water_data_count = water_data.count()\n",
    "print(water_data_count)"
   ]
  },
  {
   "cell_type": "code",
   "execution_count": null,
   "metadata": {},
   "outputs": [],
   "source": [
    "# Check if there is a null values\n",
    "water_data.isnull().sum()"
   ]
  },
  {
   "cell_type": "code",
   "execution_count": null,
   "metadata": {},
   "outputs": [],
   "source": [
    "# Rank each water sources (10 is the highest)\n",
    "rank_10 = 'Own use, faucet, community water system'\n",
    "rank_9 = 'Shared, faucet, community water system'\n",
    "rank_8 = 'Own use, tubed/piped deep well'\n",
    "rank_7 = 'Shared, tubed/piped deep well'\n",
    "rank_6 = 'Protected spring, river, stream, etc'\n",
    "rank_5 = 'Tubed/piped shallow well'\n",
    "rank_4 = 'Lake, river, rain and others'\n",
    "rank_3 = 'Unprotected spring, river, stream, etc'\n",
    "rank_2 = 'Dug well'\n",
    "rank_1 = 'Peddler'\n",
    "rank_0 = 'Others'\n",
    "\n",
    "water_rank = { rank_10 : 10,\n",
    "              rank_9 : 9,\n",
    "              rank_8 : 8,\n",
    "              rank_7 : 7,\n",
    "              rank_6 : 6,\n",
    "              rank_5 : 5,\n",
    "              rank_4 : 4,\n",
    "              rank_3 : 3,\n",
    "              rank_2 : 2,\n",
    "              rank_1 : 1,\n",
    "              rank_0 : 0\n",
    "}"
   ]
  },
  {
   "cell_type": "code",
   "execution_count": null,
   "metadata": {},
   "outputs": [],
   "source": [
    "# Check each water source counts from rank 10 to 1\n",
    "rank_10_data = water_data[water_data == rank_10].count()\n",
    "rank_9_data = water_data[water_data == rank_9].count()\n",
    "rank_8_data = water_data[water_data == rank_8].count()\n",
    "rank_7_data = water_data[water_data == rank_7].count()\n",
    "rank_6_data = water_data[water_data == rank_6].count()\n",
    "rank_5_data = water_data[water_data == rank_5].count()\n",
    "rank_4_data = water_data[water_data == rank_4].count()\n",
    "rank_3_data = water_data[water_data == rank_3].count()\n",
    "rank_2_data = water_data[water_data == rank_2].count()\n",
    "rank_1_data = water_data[water_data == rank_1].count()\n",
    "rank_0_data = water_data[water_data == rank_0].count()\n",
    "\n",
    "print(\"Count for '10: Own use, faucet, community water system' = \",  rank_10_data)\n",
    "print(\"Count for '9: Shared, faucet, community water system' = \",  rank_9_data)\n",
    "print(\"Count for '8: Own use, tubed/piped deep well' = \",  rank_8_data)\n",
    "print(\"Count for '7: Shared, tubed/piped deep well' = \",  rank_7_data)\n",
    "print(\"Count for '6: Protected spring, river, stream, etc' = \",  rank_6_data)\n",
    "print(\"Count for '5: Tubed/piped shallow well' = \",  rank_5_data)\n",
    "print(\"Count for '4: Lake, river, rain and others' = \",  rank_4_data)\n",
    "print(\"Count for '3: Unprotected spring, river, stream, etc' = \",  rank_3_data)\n",
    "print(\"Count for '2: Dug well' = \",  rank_2_data)\n",
    "print(\"Count for '1: Peddler' = \",  rank_1_data)\n",
    "print(\"Count for '0 : Others' = \",  rank_0_data)\n",
    "\n",
    "sum_data = rank_10_data+rank_9_data+rank_8_data+rank_7_data+rank_6_data+rank_5_data+rank_4_data+rank_3_data+rank_2_data+rank_1_data+rank_0_data\n",
    "\n",
    "# Check if the separated rank water data is equal to all water source data counts\n",
    "print(water_data_count == sum_data)"
   ]
  },
  {
   "cell_type": "code",
   "execution_count": null,
   "metadata": {},
   "outputs": [],
   "source": [
    "# Replace the values with the rank system value\n",
    "water_data.replace(water_rank, inplace=True)"
   ]
  },
  {
   "cell_type": "code",
   "execution_count": null,
   "metadata": {},
   "outputs": [],
   "source": [
    "# Check again each replaced water source counts from rank 10 to 1\n",
    "rank_10_data = water_data[water_data == water_rank[rank_10]].count()\n",
    "rank_9_data = water_data[water_data == water_rank[rank_9]].count()\n",
    "rank_8_data = water_data[water_data == water_rank[rank_8]].count()\n",
    "rank_7_data = water_data[water_data == water_rank[rank_7]].count()\n",
    "rank_6_data = water_data[water_data == water_rank[rank_6]].count()\n",
    "rank_5_data = water_data[water_data == water_rank[rank_5]].count()\n",
    "rank_4_data = water_data[water_data == water_rank[rank_4]].count()\n",
    "rank_3_data = water_data[water_data == water_rank[rank_3]].count()\n",
    "rank_2_data = water_data[water_data == water_rank[rank_2]].count()\n",
    "rank_1_data = water_data[water_data == water_rank[rank_1]].count()\n",
    "rank_0_data = water_data[water_data == water_rank[rank_0]].count()\n",
    "\n",
    "print(\"Count for '10: Own use, faucet, community water system' = \",  rank_10_data)\n",
    "print(\"Count for '9: Shared, faucet, community water system' = \",  rank_9_data)\n",
    "print(\"Count for '8: Own use, tubed/piped deep well' = \",  rank_8_data)\n",
    "print(\"Count for '7: Shared, tubed/piped deep well' = \",  rank_7_data)\n",
    "print(\"Count for '6: Protected spring, river, stream, etc' = \",  rank_6_data)\n",
    "print(\"Count for '5: Tubed/piped shallow well' = \",  rank_5_data)\n",
    "print(\"Count for '4: Lake, river, rain and others' = \",  rank_4_data)\n",
    "print(\"Count for '3: Unprotected spring, river, stream, etc' = \",  rank_3_data)\n",
    "print(\"Count for '2: Dug well' = \",  rank_2_data)\n",
    "print(\"Count for '1: Peddler' = \",  rank_1_data)\n",
    "print(\"Count for '0 : Others' = \",  rank_0_data)\n",
    "\n",
    "sum_data = rank_10_data+rank_9_data+rank_8_data+rank_7_data+rank_6_data+rank_5_data+rank_4_data+rank_3_data+rank_2_data+rank_1_data+rank_0_data\n",
    "\n",
    "# Check if the separated replaced rank water data is equal to all water source data counts\n",
    "print(water_data_count == sum_data)"
   ]
  },
  {
   "cell_type": "code",
   "execution_count": null,
   "metadata": {},
   "outputs": [],
   "source": [
    "# Drop the rows with 'Others' water source\n",
    "print(\"Water data counts before dropping 'Others': \", water_data_count)\n",
    "water_data.drop(water_data[water_data == water_rank[rank_0]].index, inplace=True)\n",
    "print(\"Water data counts after dropping 'Others': \", water_data.count())"
   ]
  },
  {
   "cell_type": "code",
   "execution_count": null,
   "metadata": {},
   "outputs": [],
   "source": [
    "# Check which families has RELIABLE & SAFE Water supply (>=7)\n",
    "# Check which families has UNRELIABLE & UNSAFE Water supply (<7)\n",
    "\n",
    "family_water_source = water_data >= 7\n",
    "reliable_water_source =  family_water_source.value_counts().loc[True]\n",
    "unreliable_water_source =  family_water_source.value_counts().loc[False]\n",
    "\n",
    "print(\"Families that have reliable and safe watter supply: \",reliable_water_source)\n",
    "print(\"Families that have unreliable and unsafe watter supply: \", unreliable_water_source)"
   ]
  },
  {
   "cell_type": "code",
   "execution_count": null,
   "metadata": {},
   "outputs": [],
   "source": [
    "# # Create bar chart for whole water supply sources\n",
    "# x = list(filter(lambda label: label != rank_0, water_rank))\n",
    "# y  = [water_data[water_data == water_rank[rank]].count() for rank in water_rank if rank != rank_0]\n",
    "\n",
    "# # Use textposition='auto' for direct text\n",
    "# fig = go.Figure(data=[go.Bar(\n",
    "#             x=x, y=y,\n",
    "#             text=y,\n",
    "#             textposition='auto',\n",
    "#         )])\n",
    "\n",
    "# fig.show()"
   ]
  },
  {
   "cell_type": "code",
   "execution_count": null,
   "metadata": {},
   "outputs": [],
   "source": [
    "# # Create pie chart for whole water supply sources\n",
    "# x = list(filter(lambda label: label != rank_0, water_rank))\n",
    "# y  = [water_data[water_data == water_rank[rank]].count() for rank in water_rank if rank != rank_0]\n",
    "\n",
    "# fig = go.Figure(data=[go.Pie(labels=x, values=y)])\n",
    "# # fig.update_traces(hoverinfo='label+percent', textinfo='percent', textfont_size=20,\n",
    "# #                   marker=dict(colors=colors))\n",
    "# # fig.update_traces(hoverinfo='label+percent', textinfo='percent', textfont_size=20,\n",
    "# #                   marker=dict(colors=colors, line=dict(color='#000000', width=2)))\n",
    "# fig.update_layout(uniformtext_minsize=15, uniformtext_mode='hide')\n",
    "# fig.show()"
   ]
  },
  {
   "cell_type": "code",
   "execution_count": null,
   "metadata": {},
   "outputs": [],
   "source": [
    "# # Create pie chart for families with reliable and unreliable water supply\n",
    "# labels = ['Reliable Water Source','Unreliable Water Source']\n",
    "# values = [reliable_water_source,unreliable_water_source]\n",
    "# colors = ['#af6458', '#d9af6b']\n",
    "\n",
    "# fig = go.Figure(data=[go.Pie(labels=labels, values=values)])\n",
    "# # fig.update_traces(hoverinfo='label+percent', textinfo='percent', textfont_size=20,\n",
    "# #                   marker=dict(colors=colors))\n",
    "# fig.update_traces(hoverinfo='label+percent', textinfo='percent', textfont_size=20,\n",
    "#                   marker=dict(colors=colors, line=dict(color='#000000', width=2)))\n",
    "# fig.show()"
   ]
  }
 ],
 "metadata": {
  "kernelspec": {
   "display_name": "Python 3",
   "language": "python",
   "name": "python3"
  },
  "language_info": {
   "codemirror_mode": {
    "name": "ipython",
    "version": 3
   },
   "file_extension": ".py",
   "mimetype": "text/x-python",
   "name": "python",
   "nbconvert_exporter": "python",
   "pygments_lexer": "ipython3",
   "version": "3.11.4"
  },
  "orig_nbformat": 4
 },
 "nbformat": 4,
 "nbformat_minor": 2
}
